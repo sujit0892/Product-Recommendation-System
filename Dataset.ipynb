{
 "cells": [
  {
   "cell_type": "code",
   "execution_count": 35,
   "id": "7b491307",
   "metadata": {},
   "outputs": [],
   "source": [
    "import pandas as pd\n",
    "import numpy as np"
   ]
  },
  {
   "cell_type": "code",
   "execution_count": 36,
   "id": "1fbf226a",
   "metadata": {},
   "outputs": [],
   "source": [
    "review = pd.read_csv('Dataset/review.csv')"
   ]
  },
  {
   "cell_type": "code",
   "execution_count": 37,
   "id": "c15db69d",
   "metadata": {},
   "outputs": [
    {
     "data": {
      "text/plain": [
       "(2281969, 5)"
      ]
     },
     "execution_count": 37,
     "metadata": {},
     "output_type": "execute_result"
    }
   ],
   "source": [
    "review.shape"
   ]
  },
  {
   "cell_type": "code",
   "execution_count": 38,
   "id": "b72c8350",
   "metadata": {},
   "outputs": [],
   "source": [
    "category = review['category'].unique()"
   ]
  },
  {
   "cell_type": "code",
   "execution_count": 39,
   "id": "16896534",
   "metadata": {},
   "outputs": [
    {
     "data": {
      "text/plain": [
       "array(['Appliances', 'Amazon fasion', 'All Beauty', 'Cell Phones',\n",
       "       'Grocery'], dtype=object)"
      ]
     },
     "execution_count": 39,
     "metadata": {},
     "output_type": "execute_result"
    }
   ],
   "source": [
    "category"
   ]
  },
  {
   "cell_type": "code",
   "execution_count": 40,
   "id": "557502f1",
   "metadata": {},
   "outputs": [],
   "source": [
    "review_new = pd.DataFrame()\n",
    "for c in category:\n",
    "    review_new = review_new.append(review[review['category']==c].head(3000),ignore_index=True)"
   ]
  },
  {
   "cell_type": "code",
   "execution_count": 41,
   "id": "1f5ce1e6",
   "metadata": {},
   "outputs": [
    {
     "data": {
      "text/plain": [
       "(14275, 5)"
      ]
     },
     "execution_count": 41,
     "metadata": {},
     "output_type": "execute_result"
    }
   ],
   "source": [
    "review_new.shape"
   ]
  },
  {
   "cell_type": "code",
   "execution_count": 42,
   "id": "3485115c",
   "metadata": {},
   "outputs": [],
   "source": [
    "product = pd.read_csv('Dataset/product.csv')"
   ]
  },
  {
   "cell_type": "code",
   "execution_count": 43,
   "id": "ea85b510",
   "metadata": {},
   "outputs": [],
   "source": [
    "product = product[product['asin'].isin(review_new['product']).values]"
   ]
  },
  {
   "cell_type": "code",
   "execution_count": 44,
   "id": "7d86be3c",
   "metadata": {},
   "outputs": [],
   "source": [
    "product.drop_duplicates(inplace = True)"
   ]
  },
  {
   "cell_type": "code",
   "execution_count": 45,
   "id": "8dd78050",
   "metadata": {},
   "outputs": [],
   "source": [
    "image = pd.read_csv('Dataset/image.csv')"
   ]
  },
  {
   "cell_type": "code",
   "execution_count": 47,
   "id": "024baafe",
   "metadata": {},
   "outputs": [],
   "source": [
    "image = image[image['product'].isin(product['asin']).values]"
   ]
  },
  {
   "cell_type": "code",
   "execution_count": 49,
   "id": "bc93660e",
   "metadata": {},
   "outputs": [
    {
     "data": {
      "text/plain": [
       "(271,)"
      ]
     },
     "execution_count": 49,
     "metadata": {},
     "output_type": "execute_result"
    }
   ],
   "source": [
    "image['product'].unique().shape"
   ]
  },
  {
   "cell_type": "code",
   "execution_count": 32,
   "id": "f53b6325",
   "metadata": {},
   "outputs": [],
   "source": [
    "user = pd.read_csv('Dataset/user.csv')"
   ]
  },
  {
   "cell_type": "code",
   "execution_count": 33,
   "id": "a6fe31ca",
   "metadata": {},
   "outputs": [],
   "source": [
    "user = user[user['user_id'].isin(review_new['user_id']).values]"
   ]
  },
  {
   "cell_type": "code",
   "execution_count": 34,
   "id": "bf3ccb39",
   "metadata": {},
   "outputs": [
    {
     "data": {
      "text/plain": [
       "(6677, 4)"
      ]
     },
     "execution_count": 34,
     "metadata": {},
     "output_type": "execute_result"
    }
   ],
   "source": [
    "user.shape"
   ]
  },
  {
   "cell_type": "code",
   "execution_count": 36,
   "id": "12044043",
   "metadata": {},
   "outputs": [],
   "source": [
    "user.to_csv('user.csv',index=False)\n",
    "image.to_csv('image.csv',index=False)\n",
    "product.to_csv('product.csv',index=False)\n",
    "review_new.to_csv('review.csv',index=False)\n"
   ]
  },
  {
   "cell_type": "code",
   "execution_count": 11,
   "id": "1fe06ccd",
   "metadata": {},
   "outputs": [],
   "source": [
    "product = pd.read_csv('product.csv')\n",
    "review = pd.read_csv('review.csv')"
   ]
  },
  {
   "cell_type": "code",
   "execution_count": 14,
   "id": "054cb0ed",
   "metadata": {},
   "outputs": [
    {
     "name": "stdout",
     "output_type": "stream",
     "text": [
      "<class 'pandas.core.frame.DataFrame'>\n",
      "RangeIndex: 14275 entries, 0 to 14274\n",
      "Data columns (total 5 columns):\n",
      " #   Column    Non-Null Count  Dtype  \n",
      "---  ------    --------------  -----  \n",
      " 0   rating    14275 non-null  float64\n",
      " 1   product   14275 non-null  object \n",
      " 2   user_id   14275 non-null  object \n",
      " 3   category  14275 non-null  object \n",
      " 4   review    14255 non-null  object \n",
      "dtypes: float64(1), object(4)\n",
      "memory usage: 557.7+ KB\n"
     ]
    }
   ],
   "source": [
    "review.info()"
   ]
  },
  {
   "cell_type": "code",
   "execution_count": 26,
   "id": "6c792195",
   "metadata": {
    "scrolled": true
   },
   "outputs": [],
   "source": [
    "rating = review.groupby('product')['rating'].mean()"
   ]
  },
  {
   "cell_type": "code",
   "execution_count": 32,
   "id": "320f9b1e",
   "metadata": {},
   "outputs": [],
   "source": [
    "product['rating'] = product['asin'].apply(lambda x: rating[x])"
   ]
  },
  {
   "cell_type": "code",
   "execution_count": 33,
   "id": "f1164f40",
   "metadata": {},
   "outputs": [
    {
     "data": {
      "text/html": [
       "<div>\n",
       "<style scoped>\n",
       "    .dataframe tbody tr th:only-of-type {\n",
       "        vertical-align: middle;\n",
       "    }\n",
       "\n",
       "    .dataframe tbody tr th {\n",
       "        vertical-align: top;\n",
       "    }\n",
       "\n",
       "    .dataframe thead th {\n",
       "        text-align: right;\n",
       "    }\n",
       "</style>\n",
       "<table border=\"1\" class=\"dataframe\">\n",
       "  <thead>\n",
       "    <tr style=\"text-align: right;\">\n",
       "      <th></th>\n",
       "      <th>asin</th>\n",
       "      <th>brand_name</th>\n",
       "      <th>description</th>\n",
       "      <th>feature</th>\n",
       "      <th>name</th>\n",
       "      <th>price</th>\n",
       "      <th>stock</th>\n",
       "      <th>category</th>\n",
       "      <th>rating</th>\n",
       "    </tr>\n",
       "  </thead>\n",
       "  <tbody>\n",
       "    <tr>\n",
       "      <th>0</th>\n",
       "      <td>B00009W3I4</td>\n",
       "      <td>HEARTLAND</td>\n",
       "      <td>Replace your old vent with the Heartland Natur...</td>\n",
       "      <td>EASY-TO-INSTALL  Dryer vent closure with hassl...</td>\n",
       "      <td>HEARTLAND 21000 Energy Saving Dryer Vent Closure</td>\n",
       "      <td>36.20</td>\n",
       "      <td>100</td>\n",
       "      <td>Appliances</td>\n",
       "      <td>5.000000</td>\n",
       "    </tr>\n",
       "    <tr>\n",
       "      <th>1</th>\n",
       "      <td>B00009W3PA</td>\n",
       "      <td>Certified Appliance Accessories</td>\n",
       "      <td>Some people are surprised to learn that a new ...</td>\n",
       "      <td>250 volt,90 angle on 1 end, 3 preattached copp...</td>\n",
       "      <td>Certified Appliance Accessories 3-Wire Closed-...</td>\n",
       "      <td>15.26</td>\n",
       "      <td>100</td>\n",
       "      <td>Appliances</td>\n",
       "      <td>5.000000</td>\n",
       "    </tr>\n",
       "    <tr>\n",
       "      <th>2</th>\n",
       "      <td>B0006GVNOA</td>\n",
       "      <td>LintEater</td>\n",
       "      <td>&lt;/&gt;The most valuable tool you can own to ensur...</td>\n",
       "      <td>Most valuable tool you can own to ensure the s...</td>\n",
       "      <td>Gardus RLE202 LintEater Rotary Dryer Vent Clea...</td>\n",
       "      <td>29.09</td>\n",
       "      <td>100</td>\n",
       "      <td>Appliances</td>\n",
       "      <td>4.500000</td>\n",
       "    </tr>\n",
       "    <tr>\n",
       "      <th>3</th>\n",
       "      <td>B0009GVYNW</td>\n",
       "      <td>Aprilaire</td>\n",
       "      <td>This genuine Aprilaire replacement water panel...</td>\n",
       "      <td>BUY WITH CONFIDENCE This genuine replacement w...</td>\n",
       "      <td>Aprilaire 35 Replacement Water Panel for April...</td>\n",
       "      <td>12.31</td>\n",
       "      <td>100</td>\n",
       "      <td>Appliances</td>\n",
       "      <td>4.000000</td>\n",
       "    </tr>\n",
       "    <tr>\n",
       "      <th>4</th>\n",
       "      <td>B000N6302Q</td>\n",
       "      <td>NewAir</td>\n",
       "      <td>The NewAir AI-100S portable ice maker is a com...</td>\n",
       "      <td>Convenient, compact design is ideal for use in...</td>\n",
       "      <td>NewAir AI-100S 28-Pound Portable Ice Maker, Si...</td>\n",
       "      <td>0.00</td>\n",
       "      <td>100</td>\n",
       "      <td>Appliances</td>\n",
       "      <td>1.285714</td>\n",
       "    </tr>\n",
       "  </tbody>\n",
       "</table>\n",
       "</div>"
      ],
      "text/plain": [
       "         asin                       brand_name  \\\n",
       "0  B00009W3I4                        HEARTLAND   \n",
       "1  B00009W3PA  Certified Appliance Accessories   \n",
       "2  B0006GVNOA                        LintEater   \n",
       "3  B0009GVYNW                        Aprilaire   \n",
       "4  B000N6302Q                           NewAir   \n",
       "\n",
       "                                         description  \\\n",
       "0  Replace your old vent with the Heartland Natur...   \n",
       "1  Some people are surprised to learn that a new ...   \n",
       "2  </>The most valuable tool you can own to ensur...   \n",
       "3  This genuine Aprilaire replacement water panel...   \n",
       "4  The NewAir AI-100S portable ice maker is a com...   \n",
       "\n",
       "                                             feature  \\\n",
       "0  EASY-TO-INSTALL  Dryer vent closure with hassl...   \n",
       "1  250 volt,90 angle on 1 end, 3 preattached copp...   \n",
       "2  Most valuable tool you can own to ensure the s...   \n",
       "3  BUY WITH CONFIDENCE This genuine replacement w...   \n",
       "4  Convenient, compact design is ideal for use in...   \n",
       "\n",
       "                                                name  price  stock  \\\n",
       "0   HEARTLAND 21000 Energy Saving Dryer Vent Closure  36.20    100   \n",
       "1  Certified Appliance Accessories 3-Wire Closed-...  15.26    100   \n",
       "2  Gardus RLE202 LintEater Rotary Dryer Vent Clea...  29.09    100   \n",
       "3  Aprilaire 35 Replacement Water Panel for April...  12.31    100   \n",
       "4  NewAir AI-100S 28-Pound Portable Ice Maker, Si...   0.00    100   \n",
       "\n",
       "     category    rating  \n",
       "0  Appliances  5.000000  \n",
       "1  Appliances  5.000000  \n",
       "2  Appliances  4.500000  \n",
       "3  Appliances  4.000000  \n",
       "4  Appliances  1.285714  "
      ]
     },
     "execution_count": 33,
     "metadata": {},
     "output_type": "execute_result"
    }
   ],
   "source": [
    "product.head()"
   ]
  },
  {
   "cell_type": "code",
   "execution_count": 34,
   "id": "3f5ed584",
   "metadata": {},
   "outputs": [],
   "source": [
    "product.to_csv('product.csv',index=False)"
   ]
  },
  {
   "cell_type": "code",
   "execution_count": null,
   "id": "2fee79f5",
   "metadata": {},
   "outputs": [],
   "source": []
  }
 ],
 "metadata": {
  "kernelspec": {
   "display_name": "Python 3",
   "language": "python",
   "name": "python3"
  },
  "language_info": {
   "codemirror_mode": {
    "name": "ipython",
    "version": 3
   },
   "file_extension": ".py",
   "mimetype": "text/x-python",
   "name": "python",
   "nbconvert_exporter": "python",
   "pygments_lexer": "ipython3",
   "version": "3.6.13"
  }
 },
 "nbformat": 4,
 "nbformat_minor": 5
}
